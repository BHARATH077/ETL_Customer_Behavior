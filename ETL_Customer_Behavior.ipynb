{
  "nbformat": 4,
  "nbformat_minor": 0,
  "metadata": {
    "colab": {
      "provenance": [],
      "toc_visible": true,
      "authorship_tag": "ABX9TyNVUTc2AoRJJ+kOe2djT1Uh",
      "include_colab_link": true
    },
    "kernelspec": {
      "name": "python3",
      "display_name": "Python 3"
    },
    "language_info": {
      "name": "python"
    }
  },
  "cells": [
    {
      "cell_type": "markdown",
      "metadata": {
        "id": "view-in-github",
        "colab_type": "text"
      },
      "source": [
        "<a href=\"https://colab.research.google.com/github/BHARATH077/ETL_Customer_Behavior/blob/main/ETL_Customer_Behavior.ipynb\" target=\"_parent\"><img src=\"https://colab.research.google.com/assets/colab-badge.svg\" alt=\"Open In Colab\"/></a>"
      ]
    },
    {
      "cell_type": "markdown",
      "source": [
        "# ETL Pipeline for Customer Behavior Analytics\n",
        "\n",
        "# Data Ingestion"
      ],
      "metadata": {
        "id": "fia2t7DdC87H"
      }
    },
    {
      "cell_type": "code",
      "execution_count": 60,
      "metadata": {
        "colab": {
          "base_uri": "https://localhost:8080/"
        },
        "id": "2A0uMCyv81EE",
        "outputId": "1f4af0b4-9246-4e81-ff5a-6d23b59dedfc"
      },
      "outputs": [
        {
          "output_type": "stream",
          "name": "stdout",
          "text": [
            "Requirement already satisfied: pyspark in /usr/local/lib/python3.12/dist-packages (3.5.1)\n",
            "Requirement already satisfied: duckdb in /usr/local/lib/python3.12/dist-packages (1.3.2)\n",
            "Requirement already satisfied: pandas in /usr/local/lib/python3.12/dist-packages (2.2.2)\n",
            "Requirement already satisfied: seaborn in /usr/local/lib/python3.12/dist-packages (0.13.2)\n",
            "Requirement already satisfied: matplotlib in /usr/local/lib/python3.12/dist-packages (3.10.0)\n",
            "Requirement already satisfied: py4j==0.10.9.7 in /usr/local/lib/python3.12/dist-packages (from pyspark) (0.10.9.7)\n",
            "Requirement already satisfied: numpy>=1.26.0 in /usr/local/lib/python3.12/dist-packages (from pandas) (2.0.2)\n",
            "Requirement already satisfied: python-dateutil>=2.8.2 in /usr/local/lib/python3.12/dist-packages (from pandas) (2.9.0.post0)\n",
            "Requirement already satisfied: pytz>=2020.1 in /usr/local/lib/python3.12/dist-packages (from pandas) (2025.2)\n",
            "Requirement already satisfied: tzdata>=2022.7 in /usr/local/lib/python3.12/dist-packages (from pandas) (2025.2)\n",
            "Requirement already satisfied: contourpy>=1.0.1 in /usr/local/lib/python3.12/dist-packages (from matplotlib) (1.3.3)\n",
            "Requirement already satisfied: cycler>=0.10 in /usr/local/lib/python3.12/dist-packages (from matplotlib) (0.12.1)\n",
            "Requirement already satisfied: fonttools>=4.22.0 in /usr/local/lib/python3.12/dist-packages (from matplotlib) (4.60.0)\n",
            "Requirement already satisfied: kiwisolver>=1.3.1 in /usr/local/lib/python3.12/dist-packages (from matplotlib) (1.4.9)\n",
            "Requirement already satisfied: packaging>=20.0 in /usr/local/lib/python3.12/dist-packages (from matplotlib) (25.0)\n",
            "Requirement already satisfied: pillow>=8 in /usr/local/lib/python3.12/dist-packages (from matplotlib) (11.3.0)\n",
            "Requirement already satisfied: pyparsing>=2.3.1 in /usr/local/lib/python3.12/dist-packages (from matplotlib) (3.2.4)\n",
            "Requirement already satisfied: six>=1.5 in /usr/local/lib/python3.12/dist-packages (from python-dateutil>=2.8.2->pandas) (1.17.0)\n"
          ]
        }
      ],
      "source": [
        "# Install Dependencies\n",
        "# Install Spark + DuckDB\n",
        "!apt-get install openjdk-11-jdk-headless -qq > /dev/null\n",
        "!pip install pyspark duckdb pandas seaborn matplotlib\n"
      ]
    },
    {
      "cell_type": "code",
      "source": [
        "# Verify Spark and DuckBD\n",
        "\n",
        "import pyspark\n",
        "from pyspark.sql import SparkSession\n",
        "import duckdb\n",
        "\n",
        "# Start Spark session\n",
        "spark = SparkSession.builder.appName(\"ETL_Project\").getOrCreate()\n",
        "print(\"Spark Version:\", spark.version)\n",
        "\n",
        "# Connect to DuckDB (in-memory for now)\n",
        "con = duckdb.connect(\":memory:\")\n",
        "print(\"DuckDB connected:\", con)\n"
      ],
      "metadata": {
        "colab": {
          "base_uri": "https://localhost:8080/"
        },
        "id": "fdiqeQqK9CIi",
        "outputId": "5f88c8b8-6cac-4732-c805-d66446c72fab"
      },
      "execution_count": 61,
      "outputs": [
        {
          "output_type": "stream",
          "name": "stdout",
          "text": [
            "Spark Version: 3.5.1\n",
            "DuckDB connected: <duckdb.duckdb.DuckDBPyConnection object at 0x7bc8ac52d230>\n"
          ]
        }
      ]
    },
    {
      "cell_type": "code",
      "source": [
        "# Prepare Sample Data\n",
        "# Since we don’t have real APIs/DBs yet, I’ll mock some CSV & JSON files directly in Colab (later we can replace them).\n",
        "\n",
        "import pandas as pd\n",
        "import json\n",
        "\n",
        "# Clickstream CSV\n",
        "clickstream_data = {\n",
        "    \"session_id\": [1,2,3,4,5],\n",
        "    \"customer_id\": [101,102,101,103,104],\n",
        "    \"page_viewed\": [\"Home\",\"Product\",\"Cart\",\"Home\",\"Checkout\"],\n",
        "    \"timestamp\": [\"2024-01-01 10:00\",\"2024-01-01 10:05\",\"2024-01-01 10:10\",\"2024-01-02 12:00\",\"2024-01-02 12:15\"]\n",
        "}\n",
        "pd.DataFrame(clickstream_data).to_csv(\"clickstream.csv\", index=False)\n",
        "\n",
        "# Transactions CSV\n",
        "transactions_data = {\n",
        "    \"transaction_id\": [1001,1002,1003],\n",
        "    \"customer_id\": [101,102,104],\n",
        "    \"amount\": [250.0, 100.0, 75.0],\n",
        "    \"timestamp\": [\"2024-01-01 11:00\",\"2024-01-01 11:05\",\"2024-01-02 12:30\"]\n",
        "}\n",
        "pd.DataFrame(transactions_data).to_csv(\"transactions.csv\", index=False)\n",
        "\n",
        "# CRM JSON\n",
        "crm_data = [\n",
        "    {\"customer_id\":101, \"name\":\"Alice\",\"segment\":\"Premium\"},\n",
        "    {\"customer_id\":102, \"name\":\"Bob\",\"segment\":\"Standard\"},\n",
        "    {\"customer_id\":103, \"name\":\"Charlie\",\"segment\":\"Standard\"},\n",
        "    {\"customer_id\":104, \"name\":\"Diana\",\"segment\":\"Premium\"}\n",
        "]\n",
        "with open(\"crm.json\",\"w\") as f:\n",
        "    json.dump(crm_data,f)\n",
        "\n",
        "print(\"Raw data recreated ✅\")\n"
      ],
      "metadata": {
        "colab": {
          "base_uri": "https://localhost:8080/"
        },
        "id": "MkUv2CdO9Ni8",
        "outputId": "5c168037-b6d7-4c57-c458-ecfb9bd4ac9e"
      },
      "execution_count": 62,
      "outputs": [
        {
          "output_type": "stream",
          "name": "stdout",
          "text": [
            "Raw data recreated ✅\n"
          ]
        }
      ]
    },
    {
      "cell_type": "code",
      "source": [
        "# Read Raw Data Files\n",
        "import pandas as pd\n",
        "import json\n",
        "\n",
        "# Read Clickstream CSV\n",
        "clickstream_df = pd.read_csv(\"clickstream.csv\")\n",
        "print(\"Clickstream:\")\n",
        "print(clickstream_df.head())\n",
        "\n",
        "# Read Transactions CSV\n",
        "transactions_df = pd.read_csv(\"transactions.csv\")\n",
        "print(\"\\nTransactions:\")\n",
        "print(transactions_df.head())\n",
        "\n",
        "# Read CRM JSON\n",
        "with open(\"crm.json\") as f:\n",
        "    crm_df = pd.json_normalize(json.load(f))\n",
        "print(\"\\nCRM:\")\n",
        "print(crm_df.head())\n"
      ],
      "metadata": {
        "colab": {
          "base_uri": "https://localhost:8080/"
        },
        "id": "EKlDFl-a_LVi",
        "outputId": "c4ce749a-c233-4463-dc6c-56eff6a259f9"
      },
      "execution_count": 63,
      "outputs": [
        {
          "output_type": "stream",
          "name": "stdout",
          "text": [
            "Clickstream:\n",
            "   session_id  customer_id page_viewed         timestamp\n",
            "0           1          101        Home  2024-01-01 10:00\n",
            "1           2          102     Product  2024-01-01 10:05\n",
            "2           3          101        Cart  2024-01-01 10:10\n",
            "3           4          103        Home  2024-01-02 12:00\n",
            "4           5          104    Checkout  2024-01-02 12:15\n",
            "\n",
            "Transactions:\n",
            "   transaction_id  customer_id  amount         timestamp\n",
            "0            1001          101   250.0  2024-01-01 11:00\n",
            "1            1002          102   100.0  2024-01-01 11:05\n",
            "2            1003          104    75.0  2024-01-02 12:30\n",
            "\n",
            "CRM:\n",
            "   customer_id     name   segment\n",
            "0          101    Alice   Premium\n",
            "1          102      Bob  Standard\n",
            "2          103  Charlie  Standard\n",
            "3          104    Diana   Premium\n"
          ]
        }
      ]
    },
    {
      "cell_type": "code",
      "source": [
        "# Load into DuckDB\n",
        "import duckdb\n",
        "\n",
        "# Create DuckDB connection\n",
        "con = duckdb.connect(database=':memory:')\n",
        "\n",
        "# Load Pandas DataFrames into DuckDB\n",
        "con.register(\"clickstream_df\", clickstream_df)\n",
        "con.register(\"transactions_df\", transactions_df)\n",
        "con.register(\"crm_df\", crm_df)\n",
        "\n",
        "# Create DuckDB tables\n",
        "con.execute(\"CREATE TABLE clickstream AS SELECT * FROM clickstream_df\")\n",
        "con.execute(\"CREATE TABLE transactions AS SELECT * FROM transactions_df\")\n",
        "con.execute(\"CREATE TABLE crm AS SELECT * FROM crm_df\")\n",
        "\n",
        "# Verify\n",
        "print(con.execute(\"SHOW TABLES\").fetchdf())\n"
      ],
      "metadata": {
        "colab": {
          "base_uri": "https://localhost:8080/"
        },
        "id": "UUGLKv4r_tDs",
        "outputId": "27bb57b3-1dc5-446a-d8c5-08e825304de6"
      },
      "execution_count": 64,
      "outputs": [
        {
          "output_type": "stream",
          "name": "stdout",
          "text": [
            "              name\n",
            "0      clickstream\n",
            "1   clickstream_df\n",
            "2              crm\n",
            "3           crm_df\n",
            "4     transactions\n",
            "5  transactions_df\n"
          ]
        }
      ]
    },
    {
      "cell_type": "code",
      "source": [
        "# Run First Warehouse Queries\n",
        "\n",
        "# Count clickstream sessions\n",
        "print(con.execute(\"SELECT COUNT(*) as sessions FROM clickstream\").fetchdf())\n",
        "\n",
        "# Check total transactions\n",
        "print(con.execute(\"SELECT COUNT(*) as transactions FROM transactions\").fetchdf())\n",
        "\n",
        "# Join CRM with Transactions (quick test)\n",
        "query = \"\"\"\n",
        "SELECT c.customer_id, c.name, c.segment, SUM(t.amount) as total_spend\n",
        "FROM crm c\n",
        "LEFT JOIN transactions t\n",
        "ON c.customer_id = t.customer_id\n",
        "GROUP BY c.customer_id, c.name, c.segment\n",
        "\"\"\"\n",
        "print(con.execute(query).fetchdf())\n"
      ],
      "metadata": {
        "colab": {
          "base_uri": "https://localhost:8080/"
        },
        "id": "m0RYJozIAUcs",
        "outputId": "41e9f624-1146-4da8-985a-0d31802a140e"
      },
      "execution_count": 65,
      "outputs": [
        {
          "output_type": "stream",
          "name": "stdout",
          "text": [
            "   sessions\n",
            "0         5\n",
            "   transactions\n",
            "0             3\n",
            "   customer_id     name   segment  total_spend\n",
            "0          101    Alice   Premium        250.0\n",
            "1          104    Diana   Premium         75.0\n",
            "2          103  Charlie  Standard          NaN\n",
            "3          102      Bob  Standard        100.0\n"
          ]
        }
      ]
    },
    {
      "cell_type": "markdown",
      "source": [
        "# Data Cleaning & Transformation with PySpark"
      ],
      "metadata": {
        "id": "6l3zPA2tCjHk"
      }
    },
    {
      "cell_type": "code",
      "source": [
        "# Install and import Spark\n",
        "\n",
        "!apt-get install openjdk-11-jdk-headless -qq > /dev/null\n",
        "!pip install pyspark\n",
        "\n",
        "from pyspark.sql import SparkSession\n",
        "from pyspark.sql.functions import col, to_timestamp, upper\n",
        "\n",
        "# Start Spark session\n",
        "spark = SparkSession.builder.appName(\"ETL_Cleaning\").getOrCreate()\n"
      ],
      "metadata": {
        "colab": {
          "base_uri": "https://localhost:8080/"
        },
        "id": "8o44PACBAzIo",
        "outputId": "f97c5d65-b4d5-478d-e54b-df77c0dc5306"
      },
      "execution_count": 66,
      "outputs": [
        {
          "output_type": "stream",
          "name": "stdout",
          "text": [
            "Requirement already satisfied: pyspark in /usr/local/lib/python3.12/dist-packages (3.5.1)\n",
            "Requirement already satisfied: py4j==0.10.9.7 in /usr/local/lib/python3.12/dist-packages (from pyspark) (0.10.9.7)\n"
          ]
        }
      ]
    },
    {
      "cell_type": "code",
      "source": [
        "# Load Data into Spark\n",
        "# Load CSVs into Spark DataFrames\n",
        "from pyspark.sql import SparkSession\n",
        "from pyspark.sql.functions import col, to_timestamp, upper\n",
        "\n",
        "spark = SparkSession.builder.appName(\"ETL_Cleaning\").getOrCreate()\n",
        "\n",
        "clickstream_spark = spark.read.csv(\"clickstream.csv\", header=True, inferSchema=True)\n",
        "transactions_spark = spark.read.csv(\"transactions.csv\", header=True, inferSchema=True)\n",
        "crm_spark = spark.read.json(\"crm.json\")\n",
        "\n",
        "# Load JSON CRM into Spark\n",
        "crm_spark = spark.read.json(\"crm.json\")\n",
        "\n",
        "print(\"Clickstream:\")\n",
        "clickstream_spark.show()\n",
        "print(\"Transactions:\")\n",
        "transactions_spark.show()\n",
        "print(\"CRM:\")\n",
        "crm_spark.show()\n"
      ],
      "metadata": {
        "colab": {
          "base_uri": "https://localhost:8080/"
        },
        "id": "N8p76mesDk2b",
        "outputId": "f1e5ef32-1a1a-4d9e-8a37-6ffef010d05b"
      },
      "execution_count": 67,
      "outputs": [
        {
          "output_type": "stream",
          "name": "stdout",
          "text": [
            "Clickstream:\n",
            "+----------+-----------+-----------+-------------------+\n",
            "|session_id|customer_id|page_viewed|          timestamp|\n",
            "+----------+-----------+-----------+-------------------+\n",
            "|         1|        101|       Home|2024-01-01 10:00:00|\n",
            "|         2|        102|    Product|2024-01-01 10:05:00|\n",
            "|         3|        101|       Cart|2024-01-01 10:10:00|\n",
            "|         4|        103|       Home|2024-01-02 12:00:00|\n",
            "|         5|        104|   Checkout|2024-01-02 12:15:00|\n",
            "+----------+-----------+-----------+-------------------+\n",
            "\n",
            "Transactions:\n",
            "+--------------+-----------+------+-------------------+\n",
            "|transaction_id|customer_id|amount|          timestamp|\n",
            "+--------------+-----------+------+-------------------+\n",
            "|          1001|        101| 250.0|2024-01-01 11:00:00|\n",
            "|          1002|        102| 100.0|2024-01-01 11:05:00|\n",
            "|          1003|        104|  75.0|2024-01-02 12:30:00|\n",
            "+--------------+-----------+------+-------------------+\n",
            "\n",
            "CRM:\n",
            "+-----------+-------+--------+\n",
            "|customer_id|   name| segment|\n",
            "+-----------+-------+--------+\n",
            "|        101|  Alice| Premium|\n",
            "|        102|    Bob|Standard|\n",
            "|        103|Charlie|Standard|\n",
            "|        104|  Diana| Premium|\n",
            "+-----------+-------+--------+\n",
            "\n"
          ]
        }
      ]
    },
    {
      "cell_type": "code",
      "source": [
        "# Basic Cleaning\n",
        "\n",
        "# --- Step 2: Cleaning / Transformation ---\n",
        "clickstream_spark = clickstream_spark.withColumn(\"timestamp\", to_timestamp(\"timestamp\")).na.drop(subset=[\"customer_id\"])\n",
        "transactions_spark = transactions_spark.withColumn(\"timestamp\", to_timestamp(\"timestamp\")).na.drop(subset=[\"customer_id\"])\n",
        "crm_spark = crm_spark.withColumn(\"segment\", upper(col(\"segment\"))).na.drop(subset=[\"customer_id\"])\n",
        "\n",
        "# --- Step 3: Convert Spark DF back to Pandas ---\n",
        "clickstream_clean = clickstream_spark.toPandas()\n",
        "transactions_clean = transactions_spark.toPandas()\n",
        "crm_clean = crm_spark.toPandas()\n"
      ],
      "metadata": {
        "id": "XQHO6_9KD1iJ"
      },
      "execution_count": 68,
      "outputs": []
    },
    {
      "cell_type": "code",
      "source": [
        "# Save Cleaned Data\n",
        "# --- Step 4: Register Pandas DF into DuckDB ---\n",
        "import duckdb\n",
        "con = duckdb.connect(\":memory:\")\n",
        "\n",
        "con.register(\"clickstream_clean\", clickstream_clean)\n",
        "con.register(\"transactions_clean\", transactions_clean)\n",
        "con.register(\"crm_clean\", crm_clean)\n",
        "\n",
        "print(\"DuckDB tables registered ✅\")\n",
        "print(con.execute(\"SHOW TABLES\").fetchdf())\n"
      ],
      "metadata": {
        "colab": {
          "base_uri": "https://localhost:8080/"
        },
        "id": "myDU3pK-EErv",
        "outputId": "76622a62-87c5-442c-d5fb-6250fd165a4a"
      },
      "execution_count": 69,
      "outputs": [
        {
          "output_type": "stream",
          "name": "stdout",
          "text": [
            "DuckDB tables registered ✅\n",
            "                 name\n",
            "0   clickstream_clean\n",
            "1           crm_clean\n",
            "2  transactions_clean\n"
          ]
        }
      ]
    },
    {
      "cell_type": "code",
      "source": [
        "# Verify Cleaning\n",
        "\n",
        "query = \"\"\"\n",
        "SELECT c.customer_id, c.name, c.segment, COUNT(s.session_id) as sessions, SUM(t.amount) as total_spend\n",
        "FROM crm_clean c\n",
        "LEFT JOIN clickstream_clean s ON c.customer_id = s.customer_id\n",
        "LEFT JOIN transactions_clean t ON c.customer_id = t.customer_id\n",
        "GROUP BY c.customer_id, c.name, c.segment\n",
        "\"\"\"\n",
        "print(con.execute(query).fetchdf())\n"
      ],
      "metadata": {
        "colab": {
          "base_uri": "https://localhost:8080/"
        },
        "id": "VIWIfI0FEIw4",
        "outputId": "e0f05b22-de2d-48d7-9350-1e23184eca9a"
      },
      "execution_count": 70,
      "outputs": [
        {
          "output_type": "stream",
          "name": "stdout",
          "text": [
            "   customer_id     name   segment  sessions  total_spend\n",
            "0          104    Diana   PREMIUM         1         75.0\n",
            "1          103  Charlie  STANDARD         1          NaN\n",
            "2          101    Alice   PREMIUM         2        500.0\n",
            "3          102      Bob  STANDARD         1        100.0\n"
          ]
        }
      ]
    },
    {
      "cell_type": "markdown",
      "source": [
        "# Transformations for Analytics"
      ],
      "metadata": {
        "id": "Sk5t63ENEu1w"
      }
    },
    {
      "cell_type": "code",
      "source": [
        "import duckdb\n",
        "\n",
        "# Connect to DuckDB in-memory\n",
        "con = duckdb.connect(database=':memory:')\n",
        "\n",
        "# Register Pandas DataFrames into DuckDB\n",
        "con.register(\"clickstream_clean\", clickstream_clean)\n",
        "con.register(\"transactions_clean\", transactions_clean)\n",
        "con.register(\"crm_clean\", crm_clean)\n",
        "\n"
      ],
      "metadata": {
        "colab": {
          "base_uri": "https://localhost:8080/"
        },
        "id": "75m-1XxjEMuG",
        "outputId": "857acd99-4683-4351-b489-1e1064bfe797"
      },
      "execution_count": 71,
      "outputs": [
        {
          "output_type": "execute_result",
          "data": {
            "text/plain": [
              "<duckdb.duckdb.DuckDBPyConnection at 0x7bc8a77eb1f0>"
            ]
          },
          "metadata": {},
          "execution_count": 71
        }
      ]
    },
    {
      "cell_type": "markdown",
      "source": [
        "# Creating Feature tables"
      ],
      "metadata": {
        "id": "KT2u6GxsL5rf"
      }
    },
    {
      "cell_type": "code",
      "source": [
        "# Sessions per Customer (Engagement)\n",
        "\n",
        "sessions_query = \"\"\"\n",
        "SELECT customer_id, COUNT(DISTINCT session_id) AS session_count\n",
        "FROM clickstream_clean\n",
        "GROUP BY customer_id\n",
        "\"\"\"\n",
        "sessions_df = con.execute(sessions_query).fetchdf()\n",
        "print(sessions_df)\n"
      ],
      "metadata": {
        "colab": {
          "base_uri": "https://localhost:8080/"
        },
        "id": "2k7UefOCEwKY",
        "outputId": "3ccbfb88-d7e4-4cab-edaa-b66fbaa71a71"
      },
      "execution_count": 72,
      "outputs": [
        {
          "output_type": "stream",
          "name": "stdout",
          "text": [
            "   customer_id  session_count\n",
            "0          102              1\n",
            "1          101              2\n",
            "2          103              1\n",
            "3          104              1\n"
          ]
        }
      ]
    },
    {
      "cell_type": "code",
      "source": [
        "# Purchases and Spend per Customer\n",
        "\n",
        "spend_query = \"\"\"\n",
        "SELECT customer_id, COUNT(DISTINCT transaction_id) AS purchase_count, SUM(amount) AS total_spend\n",
        "FROM transactions_clean\n",
        "GROUP BY customer_id\n",
        "\"\"\"\n",
        "spend_df = con.execute(spend_query).fetchdf()\n",
        "print(spend_df)\n"
      ],
      "metadata": {
        "colab": {
          "base_uri": "https://localhost:8080/"
        },
        "id": "L6yezx-LInkL",
        "outputId": "434feb71-8025-4ef1-f7e8-26ad2b43831b"
      },
      "execution_count": 73,
      "outputs": [
        {
          "output_type": "stream",
          "name": "stdout",
          "text": [
            "   customer_id  purchase_count  total_spend\n",
            "0          102               1        100.0\n",
            "1          101               1        250.0\n",
            "2          104               1         75.0\n"
          ]
        }
      ]
    },
    {
      "cell_type": "code",
      "source": [
        "# Most Viewed Pages per Customer\n",
        "\n",
        "page_query = \"\"\"\n",
        "SELECT customer_id, page_viewed, COUNT(*) AS views\n",
        "FROM clickstream_clean\n",
        "GROUP BY customer_id, page_viewed\n",
        "QUALIFY ROW_NUMBER() OVER(PARTITION BY customer_id ORDER BY views DESC) = 1\n",
        "\"\"\"\n",
        "page_df = con.execute(page_query).fetchdf()\n",
        "print(page_df)\n"
      ],
      "metadata": {
        "colab": {
          "base_uri": "https://localhost:8080/"
        },
        "id": "bU2PuwO-ME3z",
        "outputId": "441c61c4-34a2-44db-ead7-f9778a149f83"
      },
      "execution_count": 74,
      "outputs": [
        {
          "output_type": "stream",
          "name": "stdout",
          "text": [
            "   customer_id page_viewed  views\n",
            "0          102     Product      1\n",
            "1          104    Checkout      1\n",
            "2          101        Home      1\n",
            "3          103        Home      1\n"
          ]
        }
      ]
    },
    {
      "cell_type": "code",
      "source": [
        "# Define subqueries as strings\n",
        "sessions_query = \"\"\"\n",
        "SELECT customer_id, COUNT(DISTINCT session_id) AS session_count\n",
        "FROM clickstream_clean\n",
        "GROUP BY customer_id\n",
        "\"\"\"\n",
        "\n",
        "spend_query = \"\"\"\n",
        "SELECT customer_id, COUNT(DISTINCT transaction_id) AS purchase_count, SUM(amount) AS total_spend\n",
        "FROM transactions_clean\n",
        "GROUP BY customer_id\n",
        "\"\"\"\n",
        "\n",
        "page_query = \"\"\"\n",
        "SELECT customer_id, page_viewed, COUNT(*) AS views\n",
        "FROM clickstream_clean\n",
        "GROUP BY customer_id, page_viewed\n",
        "QUALIFY ROW_NUMBER() OVER(PARTITION BY customer_id ORDER BY views DESC) = 1\n",
        "\"\"\"\n",
        "\n",
        "# Combine using f-string to inject subqueries\n",
        "customer360_query = f\"\"\"\n",
        "SELECT c.customer_id, c.name, c.segment,\n",
        "       COALESCE(s.session_count, 0) AS sessions,\n",
        "       COALESCE(sp.purchase_count, 0) AS purchases,\n",
        "       COALESCE(sp.total_spend, 0) AS spend,\n",
        "       COALESCE(p.page_viewed, 'N/A') AS top_page\n",
        "FROM crm_clean c\n",
        "LEFT JOIN ({sessions_query}) s ON c.customer_id = s.customer_id\n",
        "LEFT JOIN ({spend_query}) sp ON c.customer_id = sp.customer_id\n",
        "LEFT JOIN ({page_query}) p ON c.customer_id = p.customer_id\n",
        "\"\"\"\n",
        "\n",
        "# Execute query\n",
        "customer360 = con.execute(customer360_query).fetchdf()\n",
        "print(customer360)\n"
      ],
      "metadata": {
        "colab": {
          "base_uri": "https://localhost:8080/"
        },
        "id": "BRkpflVAMJ2q",
        "outputId": "4bc08c01-0e43-407c-bbfb-2b95ad4bc083"
      },
      "execution_count": 76,
      "outputs": [
        {
          "output_type": "stream",
          "name": "stdout",
          "text": [
            "   customer_id     name   segment  sessions  purchases  spend  top_page\n",
            "0          101    Alice   PREMIUM         2          1  250.0      Home\n",
            "1          102      Bob  STANDARD         1          1  100.0   Product\n",
            "2          104    Diana   PREMIUM         1          1   75.0  Checkout\n",
            "3          103  Charlie  STANDARD         1          0    0.0      Home\n"
          ]
        }
      ]
    },
    {
      "cell_type": "code",
      "source": [
        "# Save Outputs\n",
        "\n",
        "customer360.to_csv(\"customer360_day4.csv\", index=False)\n"
      ],
      "metadata": {
        "id": "_2oxWIDpMQZ5"
      },
      "execution_count": 77,
      "outputs": []
    },
    {
      "cell_type": "code",
      "source": [],
      "metadata": {
        "id": "DtfGYcNVMzDq"
      },
      "execution_count": null,
      "outputs": []
    }
  ]
}