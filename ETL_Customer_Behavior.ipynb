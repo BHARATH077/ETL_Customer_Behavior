{
  "nbformat": 4,
  "nbformat_minor": 0,
  "metadata": {
    "colab": {
      "provenance": [],
      "authorship_tag": "ABX9TyMKyzTnKItJdJ45VzRYav8p",
      "include_colab_link": true
    },
    "kernelspec": {
      "name": "python3",
      "display_name": "Python 3"
    },
    "language_info": {
      "name": "python"
    }
  },
  "cells": [
    {
      "cell_type": "markdown",
      "metadata": {
        "id": "view-in-github",
        "colab_type": "text"
      },
      "source": [
        "<a href=\"https://colab.research.google.com/github/BHARATH077/ETL_Customer_Behavior/blob/main/ETL_Customer_Behavior.ipynb\" target=\"_parent\"><img src=\"https://colab.research.google.com/assets/colab-badge.svg\" alt=\"Open In Colab\"/></a>"
      ]
    },
    {
      "cell_type": "markdown",
      "source": [
        "# ETL Pipeline for Customer Behavior Analytics\n",
        "\n",
        "# Data Ingestion"
      ],
      "metadata": {
        "id": "fia2t7DdC87H"
      }
    },
    {
      "cell_type": "code",
      "execution_count": 1,
      "metadata": {
        "colab": {
          "base_uri": "https://localhost:8080/"
        },
        "id": "2A0uMCyv81EE",
        "outputId": "7615b358-18c9-49be-cef9-75d386e28c7a"
      },
      "outputs": [
        {
          "output_type": "stream",
          "name": "stdout",
          "text": [
            "Requirement already satisfied: pyspark in /usr/local/lib/python3.12/dist-packages (3.5.1)\n",
            "Requirement already satisfied: duckdb in /usr/local/lib/python3.12/dist-packages (1.3.2)\n",
            "Requirement already satisfied: pandas in /usr/local/lib/python3.12/dist-packages (2.2.2)\n",
            "Requirement already satisfied: seaborn in /usr/local/lib/python3.12/dist-packages (0.13.2)\n",
            "Requirement already satisfied: matplotlib in /usr/local/lib/python3.12/dist-packages (3.10.0)\n",
            "Requirement already satisfied: py4j==0.10.9.7 in /usr/local/lib/python3.12/dist-packages (from pyspark) (0.10.9.7)\n",
            "Requirement already satisfied: numpy>=1.26.0 in /usr/local/lib/python3.12/dist-packages (from pandas) (2.0.2)\n",
            "Requirement already satisfied: python-dateutil>=2.8.2 in /usr/local/lib/python3.12/dist-packages (from pandas) (2.9.0.post0)\n",
            "Requirement already satisfied: pytz>=2020.1 in /usr/local/lib/python3.12/dist-packages (from pandas) (2025.2)\n",
            "Requirement already satisfied: tzdata>=2022.7 in /usr/local/lib/python3.12/dist-packages (from pandas) (2025.2)\n",
            "Requirement already satisfied: contourpy>=1.0.1 in /usr/local/lib/python3.12/dist-packages (from matplotlib) (1.3.3)\n",
            "Requirement already satisfied: cycler>=0.10 in /usr/local/lib/python3.12/dist-packages (from matplotlib) (0.12.1)\n",
            "Requirement already satisfied: fonttools>=4.22.0 in /usr/local/lib/python3.12/dist-packages (from matplotlib) (4.60.1)\n",
            "Requirement already satisfied: kiwisolver>=1.3.1 in /usr/local/lib/python3.12/dist-packages (from matplotlib) (1.4.9)\n",
            "Requirement already satisfied: packaging>=20.0 in /usr/local/lib/python3.12/dist-packages (from matplotlib) (25.0)\n",
            "Requirement already satisfied: pillow>=8 in /usr/local/lib/python3.12/dist-packages (from matplotlib) (11.3.0)\n",
            "Requirement already satisfied: pyparsing>=2.3.1 in /usr/local/lib/python3.12/dist-packages (from matplotlib) (3.2.5)\n",
            "Requirement already satisfied: six>=1.5 in /usr/local/lib/python3.12/dist-packages (from python-dateutil>=2.8.2->pandas) (1.17.0)\n"
          ]
        }
      ],
      "source": [
        "# Install Dependencies\n",
        "# Install Spark + DuckDB\n",
        "!apt-get install openjdk-11-jdk-headless -qq > /dev/null\n",
        "!pip install pyspark duckdb pandas seaborn matplotlib\n"
      ]
    },
    {
      "cell_type": "code",
      "source": [
        "# Verify Spark and DuckBD\n",
        "\n",
        "import pyspark\n",
        "from pyspark.sql import SparkSession\n",
        "import duckdb\n",
        "\n",
        "# Start Spark session\n",
        "spark = SparkSession.builder.appName(\"ETL_Project\").getOrCreate()\n",
        "print(\"Spark Version:\", spark.version)\n",
        "\n",
        "# Connect to DuckDB (in-memory for now)\n",
        "con = duckdb.connect(\":memory:\")\n",
        "print(\"DuckDB connected:\", con)\n"
      ],
      "metadata": {
        "colab": {
          "base_uri": "https://localhost:8080/"
        },
        "id": "fdiqeQqK9CIi",
        "outputId": "aff314ad-aa57-49e0-8df5-3263d7233865"
      },
      "execution_count": 2,
      "outputs": [
        {
          "output_type": "stream",
          "name": "stdout",
          "text": [
            "Spark Version: 3.5.1\n",
            "DuckDB connected: <duckdb.duckdb.DuckDBPyConnection object at 0x7aa6c840aeb0>\n"
          ]
        }
      ]
    },
    {
      "cell_type": "code",
      "source": [
        "# Prepare Sample Data\n",
        "# Since we don’t have real APIs/DBs yet, I’ll mock some CSV & JSON files directly in Colab (later we can replace them).\n",
        "\n",
        "import pandas as pd\n",
        "import json\n",
        "\n",
        "# Clickstream CSV\n",
        "clickstream_data = {\n",
        "    \"session_id\": [1,2,3,4,5],\n",
        "    \"customer_id\": [101,102,101,103,104],\n",
        "    \"page_viewed\": [\"Home\",\"Product\",\"Cart\",\"Home\",\"Checkout\"],\n",
        "    \"timestamp\": [\"2024-01-01 10:00\",\"2024-01-01 10:05\",\"2024-01-01 10:10\",\"2024-01-02 12:00\",\"2024-01-02 12:15\"]\n",
        "}\n",
        "pd.DataFrame(clickstream_data).to_csv(\"clickstream.csv\", index=False)\n",
        "\n",
        "# Transactions CSV\n",
        "transactions_data = {\n",
        "    \"transaction_id\": [1001,1002,1003],\n",
        "    \"customer_id\": [101,102,104],\n",
        "    \"amount\": [250.0, 100.0, 75.0],\n",
        "    \"timestamp\": [\"2024-01-01 11:00\",\"2024-01-01 11:05\",\"2024-01-02 12:30\"]\n",
        "}\n",
        "pd.DataFrame(transactions_data).to_csv(\"transactions.csv\", index=False)\n",
        "\n",
        "# CRM JSON\n",
        "crm_data = [\n",
        "    {\"customer_id\":101, \"name\":\"Alice\",\"segment\":\"Premium\"},\n",
        "    {\"customer_id\":102, \"name\":\"Bob\",\"segment\":\"Standard\"},\n",
        "    {\"customer_id\":103, \"name\":\"Charlie\",\"segment\":\"Standard\"},\n",
        "    {\"customer_id\":104, \"name\":\"Diana\",\"segment\":\"Premium\"}\n",
        "]\n",
        "with open(\"crm.json\",\"w\") as f:\n",
        "    json.dump(crm_data,f)\n",
        "\n",
        "print(\"Raw data recreated ✅\")\n"
      ],
      "metadata": {
        "colab": {
          "base_uri": "https://localhost:8080/"
        },
        "id": "MkUv2CdO9Ni8",
        "outputId": "da8ad419-9c79-46ce-af36-ef1c3f704070"
      },
      "execution_count": 3,
      "outputs": [
        {
          "output_type": "stream",
          "name": "stdout",
          "text": [
            "Raw data recreated ✅\n"
          ]
        }
      ]
    },
    {
      "cell_type": "code",
      "source": [
        "# Read Raw Data Files\n",
        "import pandas as pd\n",
        "import json\n",
        "\n",
        "# Read Clickstream CSV\n",
        "clickstream_df = pd.read_csv(\"clickstream.csv\")\n",
        "print(\"Clickstream:\")\n",
        "print(clickstream_df.head())\n",
        "\n",
        "# Read Transactions CSV\n",
        "transactions_df = pd.read_csv(\"transactions.csv\")\n",
        "print(\"\\nTransactions:\")\n",
        "print(transactions_df.head())\n",
        "\n",
        "# Read CRM JSON\n",
        "with open(\"crm.json\") as f:\n",
        "    crm_df = pd.json_normalize(json.load(f))\n",
        "print(\"\\nCRM:\")\n",
        "print(crm_df.head())\n"
      ],
      "metadata": {
        "colab": {
          "base_uri": "https://localhost:8080/"
        },
        "id": "EKlDFl-a_LVi",
        "outputId": "71480a33-e0d5-4b06-e083-178273d7c7bd"
      },
      "execution_count": 4,
      "outputs": [
        {
          "output_type": "stream",
          "name": "stdout",
          "text": [
            "Clickstream:\n",
            "   session_id  customer_id page_viewed         timestamp\n",
            "0           1          101        Home  2024-01-01 10:00\n",
            "1           2          102     Product  2024-01-01 10:05\n",
            "2           3          101        Cart  2024-01-01 10:10\n",
            "3           4          103        Home  2024-01-02 12:00\n",
            "4           5          104    Checkout  2024-01-02 12:15\n",
            "\n",
            "Transactions:\n",
            "   transaction_id  customer_id  amount         timestamp\n",
            "0            1001          101   250.0  2024-01-01 11:00\n",
            "1            1002          102   100.0  2024-01-01 11:05\n",
            "2            1003          104    75.0  2024-01-02 12:30\n",
            "\n",
            "CRM:\n",
            "   customer_id     name   segment\n",
            "0          101    Alice   Premium\n",
            "1          102      Bob  Standard\n",
            "2          103  Charlie  Standard\n",
            "3          104    Diana   Premium\n"
          ]
        }
      ]
    },
    {
      "cell_type": "code",
      "source": [
        "# Load into DuckDB\n",
        "import duckdb\n",
        "\n",
        "# Create DuckDB connection\n",
        "con = duckdb.connect(database=':memory:')\n",
        "\n",
        "# Load Pandas DataFrames into DuckDB\n",
        "con.register(\"clickstream_df\", clickstream_df)\n",
        "con.register(\"transactions_df\", transactions_df)\n",
        "con.register(\"crm_df\", crm_df)\n",
        "\n",
        "# Create DuckDB tables\n",
        "con.execute(\"CREATE TABLE clickstream AS SELECT * FROM clickstream_df\")\n",
        "con.execute(\"CREATE TABLE transactions AS SELECT * FROM transactions_df\")\n",
        "con.execute(\"CREATE TABLE crm AS SELECT * FROM crm_df\")\n",
        "\n",
        "# Verify\n",
        "print(con.execute(\"SHOW TABLES\").fetchdf())\n"
      ],
      "metadata": {
        "colab": {
          "base_uri": "https://localhost:8080/"
        },
        "id": "UUGLKv4r_tDs",
        "outputId": "7384a7cb-505c-43b7-b374-9b0fd5cb11af"
      },
      "execution_count": 5,
      "outputs": [
        {
          "output_type": "stream",
          "name": "stdout",
          "text": [
            "              name\n",
            "0      clickstream\n",
            "1   clickstream_df\n",
            "2              crm\n",
            "3           crm_df\n",
            "4     transactions\n",
            "5  transactions_df\n"
          ]
        }
      ]
    },
    {
      "cell_type": "code",
      "source": [
        "# Run First Warehouse Queries\n",
        "\n",
        "# Count clickstream sessions\n",
        "print(con.execute(\"SELECT COUNT(*) as sessions FROM clickstream\").fetchdf())\n",
        "\n",
        "# Check total transactions\n",
        "print(con.execute(\"SELECT COUNT(*) as transactions FROM transactions\").fetchdf())\n",
        "\n",
        "# Join CRM with Transactions (quick test)\n",
        "query = \"\"\"\n",
        "SELECT c.customer_id, c.name, c.segment, SUM(t.amount) as total_spend\n",
        "FROM crm c\n",
        "LEFT JOIN transactions t\n",
        "ON c.customer_id = t.customer_id\n",
        "GROUP BY c.customer_id, c.name, c.segment\n",
        "\"\"\"\n",
        "print(con.execute(query).fetchdf())\n"
      ],
      "metadata": {
        "colab": {
          "base_uri": "https://localhost:8080/"
        },
        "id": "m0RYJozIAUcs",
        "outputId": "86fff798-999e-4289-a553-ef7b79e07e5d"
      },
      "execution_count": 6,
      "outputs": [
        {
          "output_type": "stream",
          "name": "stdout",
          "text": [
            "   sessions\n",
            "0         5\n",
            "   transactions\n",
            "0             3\n",
            "   customer_id     name   segment  total_spend\n",
            "0          101    Alice   Premium        250.0\n",
            "1          104    Diana   Premium         75.0\n",
            "2          103  Charlie  Standard          NaN\n",
            "3          102      Bob  Standard        100.0\n"
          ]
        }
      ]
    },
    {
      "cell_type": "markdown",
      "source": [
        "# Data Cleaning & Transformation with PySpark"
      ],
      "metadata": {
        "id": "6l3zPA2tCjHk"
      }
    },
    {
      "cell_type": "code",
      "source": [
        "# Install and import Spark\n",
        "\n",
        "!apt-get install openjdk-11-jdk-headless -qq > /dev/null\n",
        "!pip install pyspark\n",
        "\n",
        "from pyspark.sql import SparkSession\n",
        "from pyspark.sql.functions import col, to_timestamp, upper\n",
        "\n",
        "# Start Spark session\n",
        "spark = SparkSession.builder.appName(\"ETL_Cleaning\").getOrCreate()\n"
      ],
      "metadata": {
        "colab": {
          "base_uri": "https://localhost:8080/"
        },
        "id": "8o44PACBAzIo",
        "outputId": "8f824b5b-24c2-40b3-9c24-93e8d809c5f4"
      },
      "execution_count": 7,
      "outputs": [
        {
          "output_type": "stream",
          "name": "stdout",
          "text": [
            "Requirement already satisfied: pyspark in /usr/local/lib/python3.12/dist-packages (3.5.1)\n",
            "Requirement already satisfied: py4j==0.10.9.7 in /usr/local/lib/python3.12/dist-packages (from pyspark) (0.10.9.7)\n"
          ]
        }
      ]
    },
    {
      "cell_type": "code",
      "source": [
        "# Load Data into Spark\n",
        "# Load CSVs into Spark DataFrames\n",
        "from pyspark.sql import SparkSession\n",
        "from pyspark.sql.functions import col, to_timestamp, upper\n",
        "\n",
        "spark = SparkSession.builder.appName(\"ETL_Cleaning\").getOrCreate()\n",
        "\n",
        "clickstream_spark = spark.read.csv(\"clickstream.csv\", header=True, inferSchema=True)\n",
        "transactions_spark = spark.read.csv(\"transactions.csv\", header=True, inferSchema=True)\n",
        "crm_spark = spark.read.json(\"crm.json\")\n",
        "\n",
        "# Load JSON CRM into Spark\n",
        "crm_spark = spark.read.json(\"crm.json\")\n",
        "\n",
        "print(\"Clickstream:\")\n",
        "clickstream_spark.show()\n",
        "print(\"Transactions:\")\n",
        "transactions_spark.show()\n",
        "print(\"CRM:\")\n",
        "crm_spark.show()\n"
      ],
      "metadata": {
        "colab": {
          "base_uri": "https://localhost:8080/"
        },
        "id": "N8p76mesDk2b",
        "outputId": "57292075-b84d-4d09-e861-9d044cc614d5"
      },
      "execution_count": 8,
      "outputs": [
        {
          "output_type": "stream",
          "name": "stdout",
          "text": [
            "Clickstream:\n",
            "+----------+-----------+-----------+-------------------+\n",
            "|session_id|customer_id|page_viewed|          timestamp|\n",
            "+----------+-----------+-----------+-------------------+\n",
            "|         1|        101|       Home|2024-01-01 10:00:00|\n",
            "|         2|        102|    Product|2024-01-01 10:05:00|\n",
            "|         3|        101|       Cart|2024-01-01 10:10:00|\n",
            "|         4|        103|       Home|2024-01-02 12:00:00|\n",
            "|         5|        104|   Checkout|2024-01-02 12:15:00|\n",
            "+----------+-----------+-----------+-------------------+\n",
            "\n",
            "Transactions:\n",
            "+--------------+-----------+------+-------------------+\n",
            "|transaction_id|customer_id|amount|          timestamp|\n",
            "+--------------+-----------+------+-------------------+\n",
            "|          1001|        101| 250.0|2024-01-01 11:00:00|\n",
            "|          1002|        102| 100.0|2024-01-01 11:05:00|\n",
            "|          1003|        104|  75.0|2024-01-02 12:30:00|\n",
            "+--------------+-----------+------+-------------------+\n",
            "\n",
            "CRM:\n",
            "+-----------+-------+--------+\n",
            "|customer_id|   name| segment|\n",
            "+-----------+-------+--------+\n",
            "|        101|  Alice| Premium|\n",
            "|        102|    Bob|Standard|\n",
            "|        103|Charlie|Standard|\n",
            "|        104|  Diana| Premium|\n",
            "+-----------+-------+--------+\n",
            "\n"
          ]
        }
      ]
    },
    {
      "cell_type": "code",
      "source": [
        "# Basic Cleaning\n",
        "\n",
        "# --- Step 2: Cleaning / Transformation ---\n",
        "clickstream_spark = clickstream_spark.withColumn(\"timestamp\", to_timestamp(\"timestamp\")).na.drop(subset=[\"customer_id\"])\n",
        "transactions_spark = transactions_spark.withColumn(\"timestamp\", to_timestamp(\"timestamp\")).na.drop(subset=[\"customer_id\"])\n",
        "crm_spark = crm_spark.withColumn(\"segment\", upper(col(\"segment\"))).na.drop(subset=[\"customer_id\"])\n",
        "\n",
        "# --- Step 3: Convert Spark DF back to Pandas ---\n",
        "clickstream_clean = clickstream_spark.toPandas()\n",
        "transactions_clean = transactions_spark.toPandas()\n",
        "crm_clean = crm_spark.toPandas()\n"
      ],
      "metadata": {
        "id": "XQHO6_9KD1iJ"
      },
      "execution_count": 9,
      "outputs": []
    },
    {
      "cell_type": "code",
      "source": [
        "# Save Cleaned Data\n",
        "# --- Step 4: Register Pandas DF into DuckDB ---\n",
        "import duckdb\n",
        "con = duckdb.connect(\":memory:\")\n",
        "\n",
        "con.register(\"clickstream_clean\", clickstream_clean)\n",
        "con.register(\"transactions_clean\", transactions_clean)\n",
        "con.register(\"crm_clean\", crm_clean)\n",
        "\n",
        "print(\"DuckDB tables registered ✅\")\n",
        "print(con.execute(\"SHOW TABLES\").fetchdf())\n"
      ],
      "metadata": {
        "colab": {
          "base_uri": "https://localhost:8080/"
        },
        "id": "myDU3pK-EErv",
        "outputId": "1c150cf9-de2e-4f44-86b5-b6c6df7a6f5f"
      },
      "execution_count": 10,
      "outputs": [
        {
          "output_type": "stream",
          "name": "stdout",
          "text": [
            "DuckDB tables registered ✅\n",
            "                 name\n",
            "0   clickstream_clean\n",
            "1           crm_clean\n",
            "2  transactions_clean\n"
          ]
        }
      ]
    },
    {
      "cell_type": "code",
      "source": [
        "# Verify Cleaning\n",
        "\n",
        "query = \"\"\"\n",
        "SELECT c.customer_id, c.name, c.segment, COUNT(s.session_id) as sessions, SUM(t.amount) as total_spend\n",
        "FROM crm_clean c\n",
        "LEFT JOIN clickstream_clean s ON c.customer_id = s.customer_id\n",
        "LEFT JOIN transactions_clean t ON c.customer_id = t.customer_id\n",
        "GROUP BY c.customer_id, c.name, c.segment\n",
        "\"\"\"\n",
        "print(con.execute(query).fetchdf())\n"
      ],
      "metadata": {
        "colab": {
          "base_uri": "https://localhost:8080/"
        },
        "id": "VIWIfI0FEIw4",
        "outputId": "bf197f5b-4c21-431b-eb46-df99ec1a1bf6"
      },
      "execution_count": 11,
      "outputs": [
        {
          "output_type": "stream",
          "name": "stdout",
          "text": [
            "   customer_id     name   segment  sessions  total_spend\n",
            "0          101    Alice   PREMIUM         2        500.0\n",
            "1          102      Bob  STANDARD         1        100.0\n",
            "2          104    Diana   PREMIUM         1         75.0\n",
            "3          103  Charlie  STANDARD         1          NaN\n"
          ]
        }
      ]
    },
    {
      "cell_type": "markdown",
      "source": [
        "# Transformations for Analytics"
      ],
      "metadata": {
        "id": "Sk5t63ENEu1w"
      }
    },
    {
      "cell_type": "code",
      "source": [
        "import duckdb\n",
        "\n",
        "# Connect to DuckDB in-memory\n",
        "con = duckdb.connect(database=':memory:')\n",
        "\n",
        "# Register Pandas DataFrames into DuckDB\n",
        "con.register(\"clickstream_clean\", clickstream_clean)\n",
        "con.register(\"transactions_clean\", transactions_clean)\n",
        "con.register(\"crm_clean\", crm_clean)\n",
        "\n"
      ],
      "metadata": {
        "colab": {
          "base_uri": "https://localhost:8080/"
        },
        "id": "75m-1XxjEMuG",
        "outputId": "ab70cc19-3fad-4689-a13d-9f104a715e94"
      },
      "execution_count": 12,
      "outputs": [
        {
          "output_type": "execute_result",
          "data": {
            "text/plain": [
              "<duckdb.duckdb.DuckDBPyConnection at 0x7aa69a36ffb0>"
            ]
          },
          "metadata": {},
          "execution_count": 12
        }
      ]
    },
    {
      "cell_type": "markdown",
      "source": [
        "# Creating Feature tables"
      ],
      "metadata": {
        "id": "KT2u6GxsL5rf"
      }
    },
    {
      "cell_type": "code",
      "source": [
        "# Sessions per Customer (Engagement)\n",
        "\n",
        "sessions_query = \"\"\"\n",
        "SELECT customer_id, COUNT(DISTINCT session_id) AS session_count\n",
        "FROM clickstream_clean\n",
        "GROUP BY customer_id\n",
        "\"\"\"\n",
        "sessions_df = con.execute(sessions_query).fetchdf()\n",
        "print(sessions_df)\n"
      ],
      "metadata": {
        "colab": {
          "base_uri": "https://localhost:8080/"
        },
        "id": "2k7UefOCEwKY",
        "outputId": "3e08b3fd-0b3b-499e-d308-2844a1db0a31"
      },
      "execution_count": 13,
      "outputs": [
        {
          "output_type": "stream",
          "name": "stdout",
          "text": [
            "   customer_id  session_count\n",
            "0          102              1\n",
            "1          101              2\n",
            "2          103              1\n",
            "3          104              1\n"
          ]
        }
      ]
    },
    {
      "cell_type": "code",
      "source": [
        "# Purchases and Spend per Customer\n",
        "\n",
        "spend_query = \"\"\"\n",
        "SELECT customer_id, COUNT(DISTINCT transaction_id) AS purchase_count, SUM(amount) AS total_spend\n",
        "FROM transactions_clean\n",
        "GROUP BY customer_id\n",
        "\"\"\"\n",
        "spend_df = con.execute(spend_query).fetchdf()\n",
        "print(spend_df)\n"
      ],
      "metadata": {
        "colab": {
          "base_uri": "https://localhost:8080/"
        },
        "id": "L6yezx-LInkL",
        "outputId": "ebbd0dfe-4ddf-4694-f0b4-8d15d7a9dfb4"
      },
      "execution_count": 14,
      "outputs": [
        {
          "output_type": "stream",
          "name": "stdout",
          "text": [
            "   customer_id  purchase_count  total_spend\n",
            "0          102               1        100.0\n",
            "1          101               1        250.0\n",
            "2          104               1         75.0\n"
          ]
        }
      ]
    },
    {
      "cell_type": "code",
      "source": [
        "# Most Viewed Pages per Customer\n",
        "\n",
        "page_query = \"\"\"\n",
        "SELECT customer_id, page_viewed, COUNT(*) AS views\n",
        "FROM clickstream_clean\n",
        "GROUP BY customer_id, page_viewed\n",
        "QUALIFY ROW_NUMBER() OVER(PARTITION BY customer_id ORDER BY views DESC) = 1\n",
        "\"\"\"\n",
        "page_df = con.execute(page_query).fetchdf()\n",
        "print(page_df)\n"
      ],
      "metadata": {
        "colab": {
          "base_uri": "https://localhost:8080/"
        },
        "id": "bU2PuwO-ME3z",
        "outputId": "a0c8d634-77b9-493a-a6c0-4ea9de19c463"
      },
      "execution_count": 15,
      "outputs": [
        {
          "output_type": "stream",
          "name": "stdout",
          "text": [
            "   customer_id page_viewed  views\n",
            "0          102     Product      1\n",
            "1          101        Home      1\n",
            "2          103        Home      1\n",
            "3          104    Checkout      1\n"
          ]
        }
      ]
    },
    {
      "cell_type": "code",
      "source": [
        "# Define subqueries as strings\n",
        "sessions_query = \"\"\"\n",
        "SELECT customer_id, COUNT(DISTINCT session_id) AS session_count\n",
        "FROM clickstream_clean\n",
        "GROUP BY customer_id\n",
        "\"\"\"\n",
        "\n",
        "spend_query = \"\"\"\n",
        "SELECT customer_id, COUNT(DISTINCT transaction_id) AS purchase_count, SUM(amount) AS total_spend\n",
        "FROM transactions_clean\n",
        "GROUP BY customer_id\n",
        "\"\"\"\n",
        "\n",
        "page_query = \"\"\"\n",
        "SELECT customer_id, page_viewed, COUNT(*) AS views\n",
        "FROM clickstream_clean\n",
        "GROUP BY customer_id, page_viewed\n",
        "QUALIFY ROW_NUMBER() OVER(PARTITION BY customer_id ORDER BY views DESC) = 1\n",
        "\"\"\"\n",
        "\n",
        "# Combine using f-string to inject subqueries\n",
        "customer360_query = f\"\"\"\n",
        "SELECT c.customer_id, c.name, c.segment,\n",
        "       COALESCE(s.session_count, 0) AS sessions,\n",
        "       COALESCE(sp.purchase_count, 0) AS purchases,\n",
        "       COALESCE(sp.total_spend, 0) AS spend,\n",
        "       COALESCE(p.page_viewed, 'N/A') AS top_page\n",
        "FROM crm_clean c\n",
        "LEFT JOIN ({sessions_query}) s ON c.customer_id = s.customer_id\n",
        "LEFT JOIN ({spend_query}) sp ON c.customer_id = sp.customer_id\n",
        "LEFT JOIN ({page_query}) p ON c.customer_id = p.customer_id\n",
        "\"\"\"\n",
        "\n",
        "# Execute query\n",
        "customer360 = con.execute(customer360_query).fetchdf()\n",
        "print(customer360)\n"
      ],
      "metadata": {
        "colab": {
          "base_uri": "https://localhost:8080/"
        },
        "id": "BRkpflVAMJ2q",
        "outputId": "50d191e7-1079-46f6-ec4f-3fccd70082a4"
      },
      "execution_count": 16,
      "outputs": [
        {
          "output_type": "stream",
          "name": "stdout",
          "text": [
            "   customer_id     name   segment  sessions  purchases  spend  top_page\n",
            "0          101    Alice   PREMIUM         2          1  250.0      Home\n",
            "1          102      Bob  STANDARD         1          1  100.0   Product\n",
            "2          104    Diana   PREMIUM         1          1   75.0  Checkout\n",
            "3          103  Charlie  STANDARD         1          0    0.0      Home\n"
          ]
        }
      ]
    },
    {
      "cell_type": "code",
      "source": [
        "# Save Outputs\n",
        "\n",
        "customer360.to_csv(\"customer360_day4.csv\", index=False)\n"
      ],
      "metadata": {
        "id": "_2oxWIDpMQZ5"
      },
      "execution_count": 17,
      "outputs": []
    },
    {
      "cell_type": "markdown",
      "source": [
        "# Analytics & Visualization"
      ],
      "metadata": {
        "id": "R5lvVz5CXVi8"
      }
    },
    {
      "cell_type": "code",
      "source": [
        "# Step 1: Load Customer 360 Dataset\n",
        "import pandas as pd\n",
        "import matplotlib.pyplot as plt\n",
        "import seaborn as sns\n",
        "\n",
        "# Load Customer 360\n",
        "customer360 = pd.read_csv(\"customer360_day4.csv\")\n",
        "print(customer360.head())\n"
      ],
      "metadata": {
        "colab": {
          "base_uri": "https://localhost:8080/"
        },
        "id": "DtfGYcNVMzDq",
        "outputId": "c924f424-5bd4-4ab9-aa47-7b08d5f9e954"
      },
      "execution_count": 18,
      "outputs": [
        {
          "output_type": "stream",
          "name": "stdout",
          "text": [
            "   customer_id     name   segment  sessions  purchases  spend  top_page\n",
            "0          101    Alice   PREMIUM         2          1  250.0      Home\n",
            "1          102      Bob  STANDARD         1          1  100.0   Product\n",
            "2          104    Diana   PREMIUM         1          1   75.0  Checkout\n",
            "3          103  Charlie  STANDARD         1          0    0.0      Home\n"
          ]
        }
      ]
    },
    {
      "cell_type": "code",
      "source": [
        "# Step 2: Distribution of Customer Spend\n",
        "plt.figure(figsize=(8,5))\n",
        "sns.histplot(customer360['spend'], bins=10, kde=True)\n",
        "plt.title(\"Customer Spend Distribution\")\n",
        "plt.xlabel(\"Total Spend\")\n",
        "plt.ylabel(\"Number of Customers\")\n",
        "plt.show()\n"
      ],
      "metadata": {
        "colab": {
          "base_uri": "https://localhost:8080/",
          "height": 487
        },
        "id": "ieMi5wFBXcVd",
        "outputId": "1d5f28f6-e3f7-4b00-caab-b9be75e6053e"
      },
      "execution_count": 19,
      "outputs": [
        {
          "output_type": "display_data",
          "data": {
            "text/plain": [
              "<Figure size 800x500 with 1 Axes>"
            ],
            "image/png": "[encoded data removed]"
          },
          "metadata": {}
        }
      ]
    },
    {
      "cell_type": "code",
      "source": [
        "# Step 3: Sessions vs. Spend\n",
        "plt.figure(figsize=(8,5))\n",
        "sns.scatterplot(data=customer360, x=\"sessions\", y=\"spend\", hue=\"segment\", s=100)\n",
        "plt.title(\"Sessions vs Spend by Segment\")\n",
        "plt.show()\n"
      ],
      "metadata": {
        "colab": {
          "base_uri": "https://localhost:8080/",
          "height": 487
        },
        "id": "Rd5YxAidXfum",
        "outputId": "14589c76-f990-4ef0-8f45-1a42c5891a1e"
      },
      "execution_count": 20,
      "outputs": [
        {
          "output_type": "display_data",
          "data": {
            "text/plain": [
              "<Figure size 800x500 with 1 Axes>"
            ],
            "image/png": "[encoded data removed]"
          },
          "metadata": {}
        }
      ]
    },
    {
      "cell_type": "code",
      "source": [
        "# Step 4: Purchases by Segment\n",
        "plt.figure(figsize=(7,5))\n",
        "sns.boxplot(data=customer360, x=\"segment\", y=\"purchases\")\n",
        "plt.title(\"Purchases Distribution by Segment\")\n",
        "plt.show()\n"
      ],
      "metadata": {
        "colab": {
          "base_uri": "https://localhost:8080/",
          "height": 487
        },
        "id": "jQgloq4PXi3s",
        "outputId": "7c27570a-86e3-45ab-fcbf-6864959d1e34"
      },
      "execution_count": 21,
      "outputs": [
        {
          "output_type": "display_data",
          "data": {
            "text/plain": [
              "<Figure size 700x500 with 1 Axes>"
            ],
            "image/png": "[encoded data removed]"
          },
          "metadata": {}
        }
      ]
    },
    {
      "cell_type": "code",
      "source": [
        "# Step 5: Most Viewed Pages\n",
        "top_pages = customer360['top_page'].value_counts()\n",
        "\n",
        "plt.figure(figsize=(7,5))\n",
        "sns.barplot(x=top_pages.index, y=top_pages.values, palette=\"viridis\")\n",
        "plt.title(\"Most Viewed Pages by Customers\")\n",
        "plt.xlabel(\"Page\")\n",
        "plt.ylabel(\"Number of Customers\")\n",
        "plt.show()\n"
      ],
      "metadata": {
        "colab": {
          "base_uri": "https://localhost:8080/",
          "height": 596
        },
        "id": "2dSzglJuXmME",
        "outputId": "f9744832-feec-49f9-dfd7-335c76e158a5"
      },
      "execution_count": 22,
      "outputs": [
        {
          "output_type": "stream",
          "name": "stderr",
          "text": [
            "/tmp/ipython-input-3355940236.py:5: FutureWarning: \n",
            "\n",
            "Passing `palette` without assigning `hue` is deprecated and will be removed in v0.14.0. Assign the `x` variable to `hue` and set `legend=False` for the same effect.\n",
            "\n",
            "  sns.barplot(x=top_pages.index, y=top_pages.values, palette=\"viridis\")\n"
          ]
        },
        {
          "output_type": "display_data",
          "data": {
            "text/plain": [
              "<Figure size 700x500 with 1 Axes>"
            ],
            "image/png": "[encoded data removed]"
          },
          "metadata": {}
        }
      ]
    },
    {
      "cell_type": "code",
      "source": [
        "# Step 6: Save Visual Report\n",
        "# Save summary stats\n",
        "customer360.describe().to_csv(\"customer360_summary.csv\")\n",
        "\n",
        "# Save one figure\n",
        "plt.figure(figsize=(8,5))\n",
        "sns.histplot(customer360['spend'], bins=10, kde=True)\n",
        "plt.title(\"Customer Spend Distribution\")\n",
        "plt.savefig(\"spend_distribution.png\")\n"
      ],
      "metadata": {
        "colab": {
          "base_uri": "https://localhost:8080/",
          "height": 487
        },
        "id": "asYWNEn-XrLu",
        "outputId": "79f1a397-9810-48ef-99a1-a4ed415c3fe9"
      },
      "execution_count": 23,
      "outputs": [
        {
          "output_type": "display_data",
          "data": {
            "text/plain": [
              "<Figure size 800x500 with 1 Axes>"
            ],
            "image/png": "[encoded data removed]"
          },
          "metadata": {}
        }
      ]
    },
    {
      "cell_type": "markdown",
      "source": [
        "# Dashboard Setup"
      ],
      "metadata": {
        "id": "zt9UCkJzX1S5"
      }
    },
    {
      "cell_type": "code",
      "source": [
        "# Step 1: Prepare Data for Dashboard\n",
        "import pandas as pd\n",
        "\n",
        "# Load Customer360\n",
        "customer360 = pd.read_csv(\"customer360_day4.csv\")\n",
        "\n",
        "# Check for missing values\n",
        "print(customer360.isnull().sum())\n",
        "\n",
        "# Replace NAs (if any)\n",
        "customer360 = customer360.fillna({\"spend\":0, \"purchases\":0, \"sessions\":0})\n",
        "\n",
        "# Save cleaned version\n",
        "customer360.to_csv(\"customer360_dashboard.csv\", index=False)\n"
      ],
      "metadata": {
        "colab": {
          "base_uri": "https://localhost:8080/"
        },
        "id": "uEWs9m2zXuHc",
        "outputId": "691a9680-607a-421b-fc60-23bc77d35aff"
      },
      "execution_count": 24,
      "outputs": [
        {
          "output_type": "stream",
          "name": "stdout",
          "text": [
            "customer_id    0\n",
            "name           0\n",
            "segment        0\n",
            "sessions       0\n",
            "purchases      0\n",
            "spend          0\n",
            "top_page       0\n",
            "dtype: int64\n"
          ]
        }
      ]
    },
    {
      "cell_type": "code",
      "source": [
        "# Step 2: Upload to Google Drive\n",
        "from google.colab import files\n",
        "files.download(\"customer360_dashboard.csv\")\n"
      ],
      "metadata": {
        "colab": {
          "base_uri": "https://localhost:8080/",
          "height": 17
        },
        "id": "zaNASqnoX8Uv",
        "outputId": "e1b86719-f94a-43a5-b4dd-05012908a652"
      },
      "execution_count": 25,
      "outputs": [
        {
          "output_type": "display_data",
          "data": {
            "text/plain": [
              "<IPython.core.display.Javascript object>"
            ],
            "application/javascript": [
              "\n",
              "    async function download(id, filename, size) {\n",
              "      if (!google.colab.kernel.accessAllowed) {\n",
              "        return;\n",
              "      }\n",
              "      const div = document.createElement('div');\n",
              "      const label = document.createElement('label');\n",
              "      label.textContent = `Downloading \"${filename}\": `;\n",
              "      div.appendChild(label);\n",
              "      const progress = document.createElement('progress');\n",
              "      progress.max = size;\n",
              "      div.appendChild(progress);\n",
              "      document.body.appendChild(div);\n",
              "\n",
              "      const buffers = [];\n",
              "      let downloaded = 0;\n",
              "\n",
              "      const channel = await google.colab.kernel.comms.open(id);\n",
              "      // Send a message to notify the kernel that we're ready.\n",
              "      channel.send({})\n",
              "\n",
              "      for await (const message of channel.messages) {\n",
              "        // Send a message to notify the kernel that we're ready.\n",
              "        channel.send({})\n",
              "        if (message.buffers) {\n",
              "          for (const buffer of message.buffers) {\n",
              "            buffers.push(buffer);\n",
              "            downloaded += buffer.byteLength;\n",
              "            progress.value = downloaded;\n",
              "          }\n",
              "        }\n",
              "      }\n",
              "      const blob = new Blob(buffers, {type: 'application/binary'});\n",
              "      const a = document.createElement('a');\n",
              "      a.href = window.URL.createObjectURL(blob);\n",
              "      a.download = filename;\n",
              "      div.appendChild(a);\n",
              "      a.click();\n",
              "      div.remove();\n",
              "    }\n",
              "  "
            ]
          },
          "metadata": {}
        },
        {
          "output_type": "display_data",
          "data": {
            "text/plain": [
              "<IPython.core.display.Javascript object>"
            ],
            "application/javascript": [
              "download(\"download_20ba2dd5-12e4-46cd-8db1-394000b4329b\", \"customer360_dashboard.csv\", 197)"
            ]
          },
          "metadata": {}
        }
      ]
    },
    {
      "cell_type": "markdown",
      "source": [
        "# Open Looker Studio for visuals(Link in Github)"
      ],
      "metadata": {
        "id": "0B-8TKopgL5s"
      }
    },
    {
      "cell_type": "markdown",
      "source": [
        "# Airflow Orchestration (Simulated). DAG is created in a different notebook."
      ],
      "metadata": {
        "id": "wR83X5Cxw6MP"
      }
    },
    {
      "cell_type": "markdown",
      "source": [
        "# Monitoring & Logging"
      ],
      "metadata": {
        "id": "AjZMd57vxdEc"
      }
    },
    {
      "cell_type": "code",
      "source": [
        "# Step 1: Add Logging to ETL Tasks\n",
        "import pandas as pd\n",
        "import time\n",
        "from datetime import datetime\n",
        "\n",
        "# Simple logger function\n",
        "def log_event(task_name, status, logfile=\"etl_logs.csv\"):\n",
        "    log = {\n",
        "        \"timestamp\": datetime.now().strftime(\"%Y-%m-%d %H:%M:%S\"),\n",
        "        \"task\": task_name,\n",
        "        \"status\": status\n",
        "    }\n",
        "    log_df = pd.DataFrame([log])\n",
        "    log_df.to_csv(logfile, mode='a', header=not pd.io.common.file_exists(logfile), index=False)\n",
        "\n",
        "def extract():\n",
        "    try:\n",
        "        log_event(\"extract\", \"started\")\n",
        "        clickstream = pd.read_csv(\"clickstream.csv\")\n",
        "        transactions = pd.read_csv(\"transactions.csv\")\n",
        "        crm = pd.read_csv(\"crm.csv\")\n",
        "        clickstream.to_csv(\"/tmp/clickstream_raw.csv\", index=False)\n",
        "        transactions.to_csv(\"/tmp/transactions_raw.csv\", index=False)\n",
        "        crm.to_csv(\"/tmp/crm_raw.csv\", index=False)\n",
        "        log_event(\"extract\", \"success\")\n",
        "    except Exception as e:\n",
        "        log_event(\"extract\", f\"failed: {e}\")\n",
        "        raise\n",
        "\n",
        "def transform():\n",
        "    try:\n",
        "        log_event(\"transform\", \"started\")\n",
        "        clickstream = pd.read_csv(\"/tmp/clickstream_raw.csv\")\n",
        "        transactions = pd.read_csv(\"/tmp/transactions_raw.csv\")\n",
        "        crm = pd.read_csv(\"/tmp/crm_raw.csv\")\n",
        "\n",
        "        # Example transformation\n",
        "        spend = transactions.groupby(\"customer_id\")[\"amount\"].sum().reset_index()\n",
        "        sessions = clickstream.groupby(\"customer_id\")[\"session_id\"].nunique().reset_index()\n",
        "\n",
        "        customer360 = crm.merge(spend, on=\"customer_id\", how=\"left\").merge(\n",
        "            sessions, on=\"customer_id\", how=\"left\"\n",
        "        )\n",
        "        customer360.to_csv(\"/tmp/customer360.csv\", index=False)\n",
        "        log_event(\"transform\", \"success\")\n",
        "    except Exception as e:\n",
        "        log_event(\"transform\", f\"failed: {e}\")\n",
        "        raise\n",
        "\n",
        "def load():\n",
        "    try:\n",
        "        log_event(\"load\", \"started\")\n",
        "        df = pd.read_csv(\"/tmp/customer360.csv\")\n",
        "        df.to_csv(\"customer360_final.csv\", index=False)\n",
        "        log_event(\"load\", \"success\")\n",
        "    except Exception as e:\n",
        "        log_event(\"load\", f\"failed: {e}\")\n",
        "        raise\n"
      ],
      "metadata": {
        "id": "D4-6RfK7Yh7d"
      },
      "execution_count": 26,
      "outputs": []
    },
    {
      "cell_type": "code",
      "source": [
        "# Step 2: Simulate DAG Run with Logs\n",
        "# Simulate DAG run\n",
        "extract()\n",
        "transform()\n",
        "load()\n",
        "\n",
        "# Check log file\n",
        "logs = pd.read_csv(\"etl_logs.csv\")\n",
        "print(logs)\n",
        "\n",
        "# We can't see the logs here cause we don't have access to Airflow because it's not free!."
      ],
      "metadata": {
        "id": "BZizBmfAxrJV"
      },
      "execution_count": 28,
      "outputs": []
    },
    {
      "cell_type": "code",
      "source": [
        "# Step 3: Add Visualization of Pipeline Health\n",
        "import seaborn as sns\n",
        "import matplotlib.pyplot as plt\n",
        "\n",
        "status_counts = logs['status'].value_counts()\n",
        "\n",
        "plt.figure(figsize=(6,4))\n",
        "sns.barplot(x=status_counts.index, y=status_counts.values)\n",
        "plt.title(\"ETL Task Status Overview\")\n",
        "plt.xlabel(\"Status\")\n",
        "plt.ylabel(\"Count\")\n",
        "plt.show()\n",
        "\n",
        "# No Logs means No Visuals either."
      ],
      "metadata": {
        "id": "h64sGH-PxxPd"
      },
      "execution_count": 29,
      "outputs": []
    },
    {
      "cell_type": "code",
      "source": [],
      "metadata": {
        "id": "rfzuz1iDyMyu"
      },
      "execution_count": null,
      "outputs": []
    }
  ]
}