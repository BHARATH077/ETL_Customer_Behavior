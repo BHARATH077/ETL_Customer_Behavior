{
  "nbformat": 4,
  "nbformat_minor": 0,
  "metadata": {
    "colab": {
      "provenance": [],
      "authorship_tag": "ABX9TyMPlR1+f9q7P+Fe2F3/IqRj",
      "include_colab_link": true
    },
    "kernelspec": {
      "name": "python3",
      "display_name": "Python 3"
    },
    "language_info": {
      "name": "python"
    }
  },
  "cells": [
    {
      "cell_type": "markdown",
      "metadata": {
        "id": "view-in-github",
        "colab_type": "text"
      },
      "source": [
        "<a href=\"https://colab.research.google.com/github/BHARATH077/ETL_Customer_Behavior/blob/main/01_Data_Ingestion.ipynb\" target=\"_parent\"><img src=\"https://colab.research.google.com/assets/colab-badge.svg\" alt=\"Open In Colab\"/></a>"
      ]
    },
    {
      "cell_type": "code",
      "execution_count": 2,
      "metadata": {
        "colab": {
          "base_uri": "https://localhost:8080/"
        },
        "id": "2A0uMCyv81EE",
        "outputId": "7e50ecba-2713-4b7b-b857-00c0c2e106a2"
      },
      "outputs": [
        {
          "output_type": "stream",
          "name": "stdout",
          "text": [
            "Requirement already satisfied: pyspark in /usr/local/lib/python3.12/dist-packages (3.5.1)\n",
            "Requirement already satisfied: duckdb in /usr/local/lib/python3.12/dist-packages (1.3.2)\n",
            "Requirement already satisfied: pandas in /usr/local/lib/python3.12/dist-packages (2.2.2)\n",
            "Requirement already satisfied: seaborn in /usr/local/lib/python3.12/dist-packages (0.13.2)\n",
            "Requirement already satisfied: matplotlib in /usr/local/lib/python3.12/dist-packages (3.10.0)\n",
            "Requirement already satisfied: py4j==0.10.9.7 in /usr/local/lib/python3.12/dist-packages (from pyspark) (0.10.9.7)\n",
            "Requirement already satisfied: numpy>=1.26.0 in /usr/local/lib/python3.12/dist-packages (from pandas) (2.0.2)\n",
            "Requirement already satisfied: python-dateutil>=2.8.2 in /usr/local/lib/python3.12/dist-packages (from pandas) (2.9.0.post0)\n",
            "Requirement already satisfied: pytz>=2020.1 in /usr/local/lib/python3.12/dist-packages (from pandas) (2025.2)\n",
            "Requirement already satisfied: tzdata>=2022.7 in /usr/local/lib/python3.12/dist-packages (from pandas) (2025.2)\n",
            "Requirement already satisfied: contourpy>=1.0.1 in /usr/local/lib/python3.12/dist-packages (from matplotlib) (1.3.3)\n",
            "Requirement already satisfied: cycler>=0.10 in /usr/local/lib/python3.12/dist-packages (from matplotlib) (0.12.1)\n",
            "Requirement already satisfied: fonttools>=4.22.0 in /usr/local/lib/python3.12/dist-packages (from matplotlib) (4.60.0)\n",
            "Requirement already satisfied: kiwisolver>=1.3.1 in /usr/local/lib/python3.12/dist-packages (from matplotlib) (1.4.9)\n",
            "Requirement already satisfied: packaging>=20.0 in /usr/local/lib/python3.12/dist-packages (from matplotlib) (25.0)\n",
            "Requirement already satisfied: pillow>=8 in /usr/local/lib/python3.12/dist-packages (from matplotlib) (11.3.0)\n",
            "Requirement already satisfied: pyparsing>=2.3.1 in /usr/local/lib/python3.12/dist-packages (from matplotlib) (3.2.4)\n",
            "Requirement already satisfied: six>=1.5 in /usr/local/lib/python3.12/dist-packages (from python-dateutil>=2.8.2->pandas) (1.17.0)\n"
          ]
        }
      ],
      "source": [
        "# Install Dependencies\n",
        "# Install Spark + DuckDB\n",
        "!apt-get install openjdk-11-jdk-headless -qq > /dev/null\n",
        "!pip install pyspark duckdb pandas seaborn matplotlib\n"
      ]
    },
    {
      "cell_type": "code",
      "source": [
        "# Verify Spark and DuckBD\n",
        "\n",
        "import pyspark\n",
        "from pyspark.sql import SparkSession\n",
        "import duckdb\n",
        "\n",
        "# Start Spark session\n",
        "spark = SparkSession.builder.appName(\"ETL_Project\").getOrCreate()\n",
        "print(\"Spark Version:\", spark.version)\n",
        "\n",
        "# Connect to DuckDB (in-memory for now)\n",
        "con = duckdb.connect(\":memory:\")\n",
        "print(\"DuckDB connected:\", con)\n"
      ],
      "metadata": {
        "colab": {
          "base_uri": "https://localhost:8080/"
        },
        "id": "fdiqeQqK9CIi",
        "outputId": "78b658b6-37cf-4251-9f15-9b403811f842"
      },
      "execution_count": 3,
      "outputs": [
        {
          "output_type": "stream",
          "name": "stdout",
          "text": [
            "Spark Version: 3.5.1\n",
            "DuckDB connected: <duckdb.duckdb.DuckDBPyConnection object at 0x7bc8ca713db0>\n"
          ]
        }
      ]
    },
    {
      "cell_type": "code",
      "source": [
        "# Prepare Sample Data\n",
        "# Since we don’t have real APIs/DBs yet, I’ll mock some CSV & JSON files directly in Colab (later we can replace them).\n",
        "\n",
        "import pandas as pd\n",
        "import json\n",
        "\n",
        "# Mock Clickstream CSV\n",
        "clickstream_data = {\n",
        "    \"session_id\": [1,2,3,4,5],\n",
        "    \"customer_id\": [101,102,101,103,104],\n",
        "    \"page_viewed\": [\"Home\",\"Product\",\"Cart\",\"Home\",\"Checkout\"],\n",
        "    \"timestamp\": [\"2024-01-01 10:00\",\"2024-01-01 10:05\",\"2024-01-01 10:10\",\"2024-01-02 12:00\",\"2024-01-02 12:15\"]\n",
        "}\n",
        "pd.DataFrame(clickstream_data).to_csv(\"clickstream.csv\", index=False)\n",
        "\n",
        "# Mock Transactions CSV\n",
        "transactions_data = {\n",
        "    \"transaction_id\": [1001,1002,1003],\n",
        "    \"customer_id\": [101,102,104],\n",
        "    \"amount\": [250.0, 100.0, 75.0],\n",
        "    \"timestamp\": [\"2024-01-01 11:00\",\"2024-01-01 11:05\",\"2024-01-02 12:30\"]\n",
        "}\n",
        "pd.DataFrame(transactions_data).to_csv(\"transactions.csv\", index=False)\n",
        "\n",
        "# Mock CRM JSON\n",
        "crm_data = [\n",
        "    {\"customer_id\":101, \"name\":\"Alice\",\"segment\":\"Premium\"},\n",
        "    {\"customer_id\":102, \"name\":\"Bob\",\"segment\":\"Standard\"},\n",
        "    {\"customer_id\":103, \"name\":\"Charlie\",\"segment\":\"Standard\"},\n",
        "    {\"customer_id\":104, \"name\":\"Diana\",\"segment\":\"Premium\"}\n",
        "]\n",
        "with open(\"crm.json\",\"w\") as f:\n",
        "    json.dump(crm_data,f)\n",
        "\n",
        "print(\"Sample data files created: clickstream.csv, transactions.csv, crm.json\")\n"
      ],
      "metadata": {
        "id": "MkUv2CdO9Ni8"
      },
      "execution_count": null,
      "outputs": []
    }
  ]
}